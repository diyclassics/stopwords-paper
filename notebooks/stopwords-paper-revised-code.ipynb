{
 "cells": [
  {
   "cell_type": "code",
   "execution_count": 73,
   "metadata": {},
   "outputs": [
    {
     "name": "stdout",
     "output_type": "stream",
     "text": [
      "Downloaded 100% 35.47 MiB | 3.25 MiB/s \r"
     ]
    }
   ],
   "source": [
    "# from cltk.corpus.utils.importer import CorpusImporter\n",
    "# corpus_importer = CorpusImporter('latin')\n",
    "# corpus_importer.import_corpus('latin_text_latin_library')"
   ]
  },
  {
   "cell_type": "code",
   "execution_count": 1,
   "metadata": {},
   "outputs": [],
   "source": [
    "import pandas as pd\n",
    "\n",
    "from collections import Counter\n",
    "\n",
    "\n",
    "from nltk.tokenize import WordPunctTokenizer\n",
    "\n",
    "from cltk.corpus.latin import latinlibrary\n",
    "from cltk.stop.latin import CorpusStoplist\n",
    "\n",
    "# import pickle\n",
    "\n",
    "from pprint import pprint"
   ]
  },
  {
   "cell_type": "code",
   "execution_count": 2,
   "metadata": {},
   "outputs": [],
   "source": [
    "def truncate_text(text):\n",
    "    temp = text[500:-500]\n",
    "    start = temp.find(' ')\n",
    "    end = temp.rfind(' ')\n",
    "    return temp[start:end]"
   ]
  },
  {
   "cell_type": "code",
   "execution_count": 3,
   "metadata": {},
   "outputs": [],
   "source": [
    "# Preprocess texts\n",
    "\n",
    "import html\n",
    "from cltk.stem.latin.j_v import JVReplacer\n",
    "\n",
    "replacer = JVReplacer()\n",
    "\n",
    "def preprocess(text):    \n",
    "    text = html.unescape(text) # Handle html entities\n",
    "    text = replacer.replace(text) #Normalize u/v & i/j    \n",
    "    return text"
   ]
  },
  {
   "cell_type": "code",
   "execution_count": 4,
   "metadata": {},
   "outputs": [],
   "source": [
    "ll_files = latinlibrary.fileids()\n",
    "ll_docs = [truncate_text(preprocess(latinlibrary.raw(file))) for file in ll_files]\n",
    "ll_docs = [doc for doc in ll_docs if len(doc) > 100]\n",
    "ll_size = len(ll_files)"
   ]
  },
  {
   "cell_type": "code",
   "execution_count": 5,
   "metadata": {},
   "outputs": [
    {
     "name": "stdout",
     "output_type": "stream",
     "text": [
      "There are 2141 files in the CLTK Latin Library corpus.\n"
     ]
    }
   ],
   "source": [
    "# CITED IN ARTICLE\n",
    "\n",
    "print(f'There are {ll_size} files in the CLTK Latin Library corpus.')"
   ]
  },
  {
   "cell_type": "code",
   "execution_count": 6,
   "metadata": {},
   "outputs": [],
   "source": [
    "ll_tokens = [WordPunctTokenizer().tokenize(doc) for doc in ll_docs]\n",
    "ll_tokens = [item for sublist in ll_tokens for item in sublist]"
   ]
  },
  {
   "cell_type": "code",
   "execution_count": 7,
   "metadata": {},
   "outputs": [
    {
     "name": "stdout",
     "output_type": "stream",
     "text": [
      "There are 16287272 tokens in the CLTK Latin Library corpus.\n",
      "There are 482167 unique tokens in the CLTK Latin Library corpus.\n",
      "Of the tokens appearing in the CLTK Latin Library corpus, 225613 tokens appear once.\n"
     ]
    }
   ],
   "source": [
    "# CITED IN ARTICLE\n",
    "\n",
    "print(f'There are {len(ll_tokens)} tokens in the CLTK Latin Library corpus.')\n",
    "print(f'There are {len(set(ll_tokens))} unique tokens in the CLTK Latin Library corpus.')\n",
    "print(f'Of the tokens appearing in the CLTK Latin Library corpus, {len([k for k, v in Counter(ll_tokens).items() if v == 1 ])} tokens appear once.')"
   ]
  },
  {
   "cell_type": "code",
   "execution_count": 8,
   "metadata": {},
   "outputs": [],
   "source": [
    "cic_files = [file for file in latinlibrary.fileids() if 'cicero/' in file]\n",
    "cic_docs = [truncate_text(preprocess(latinlibrary.raw(file))) for file in cic_files]\n",
    "cic_tokens = [WordPunctTokenizer().tokenize(doc) for doc in cic_docs]\n",
    "cic_tokens = [item for sublist in cic_tokens for item in sublist] #flatten\n",
    "\n",
    "bib_files = [file for file in latinlibrary.fileids() if 'bible/' in file]\n",
    "bib_docs = [truncate_text(preprocess(latinlibrary.raw(file))) for file in bib_files]\n",
    "bib_tokens = [WordPunctTokenizer().tokenize(doc) for doc in bib_docs]\n",
    "bib_tokens = [item for sublist in bib_tokens for item in sublist] #flatten\n",
    "\n",
    "ius_files = [file for file in latinlibrary.fileids() if 'justinian' in file \n",
    "                     or 'gaius' in file \n",
    "                     or 'theod' in file]\n",
    "ius_docs = [truncate_text(preprocess(latinlibrary.raw(file))) for file in ius_files]\n",
    "ius_tokens = [WordPunctTokenizer().tokenize(doc) for doc in ius_docs]\n",
    "ius_tokens = [item for sublist in ius_tokens for item in sublist] #flatten"
   ]
  },
  {
   "cell_type": "code",
   "execution_count": 9,
   "metadata": {},
   "outputs": [],
   "source": [
    "colls = ['Latin Library', 'Cicero', 'Biblia Sacra', 'Ius Romanum']\n",
    "colls_abbrev = ['LL', 'LL-Cic', 'LL-Bib', 'LL-Ius']\n",
    "colls_docs = [ll_docs, cic_docs, bib_docs, ius_docs]\n",
    "colls_tokens = [ll_tokens, cic_tokens, bib_tokens, ius_tokens]\n",
    "colls_file_counts = [len(docs) for docs in colls_docs]\n",
    "colls_token_counts = [len(tokens) for tokens in colls_tokens]\n",
    "colls_unique_counts = [len(set(tokens)) for tokens in colls_tokens]\n",
    "colls_single_counts = [len([k for k, v in Counter(tokens).items() if v == 1 ]) for tokens in colls_tokens]"
   ]
  },
  {
   "cell_type": "code",
   "execution_count": 10,
   "metadata": {},
   "outputs": [
    {
     "data": {
      "text/html": [
       "<style  type=\"text/css\" >\n",
       "    #T_08d131e8_9cb2_11e8_a7a1_9a0014019d40 .row_heading, .blank {\n",
       "          display: none;;\n",
       "    }</style>  \n",
       "<table id=\"T_08d131e8_9cb2_11e8_a7a1_9a0014019d40\" > \n",
       "<thead>    <tr> \n",
       "        <th class=\"blank level0\" ></th> \n",
       "        <th class=\"col_heading level0 col0\" >Collections</th> \n",
       "        <th class=\"col_heading level0 col1\" >Description</th> \n",
       "        <th class=\"col_heading level0 col2\" >Files</th> \n",
       "        <th class=\"col_heading level0 col3\" >Tokens</th> \n",
       "        <th class=\"col_heading level0 col4\" >Unique Tokens</th> \n",
       "        <th class=\"col_heading level0 col5\" >Single Tokens</th> \n",
       "    </tr></thead> \n",
       "<tbody>    <tr> \n",
       "        <th id=\"T_08d131e8_9cb2_11e8_a7a1_9a0014019d40level0_row0\" class=\"row_heading level0 row0\" >0</th> \n",
       "        <td id=\"T_08d131e8_9cb2_11e8_a7a1_9a0014019d40row0_col0\" class=\"data row0 col0\" >LL</td> \n",
       "        <td id=\"T_08d131e8_9cb2_11e8_a7a1_9a0014019d40row0_col1\" class=\"data row0 col1\" >Latin Library</td> \n",
       "        <td id=\"T_08d131e8_9cb2_11e8_a7a1_9a0014019d40row0_col2\" class=\"data row0 col2\" >2008</td> \n",
       "        <td id=\"T_08d131e8_9cb2_11e8_a7a1_9a0014019d40row0_col3\" class=\"data row0 col3\" >16287272</td> \n",
       "        <td id=\"T_08d131e8_9cb2_11e8_a7a1_9a0014019d40row0_col4\" class=\"data row0 col4\" >482167</td> \n",
       "        <td id=\"T_08d131e8_9cb2_11e8_a7a1_9a0014019d40row0_col5\" class=\"data row0 col5\" >225613</td> \n",
       "    </tr>    <tr> \n",
       "        <th id=\"T_08d131e8_9cb2_11e8_a7a1_9a0014019d40level0_row1\" class=\"row_heading level0 row1\" >1</th> \n",
       "        <td id=\"T_08d131e8_9cb2_11e8_a7a1_9a0014019d40row1_col0\" class=\"data row1 col0\" >LL-Cic</td> \n",
       "        <td id=\"T_08d131e8_9cb2_11e8_a7a1_9a0014019d40row1_col1\" class=\"data row1 col1\" >Cicero</td> \n",
       "        <td id=\"T_08d131e8_9cb2_11e8_a7a1_9a0014019d40row1_col2\" class=\"data row1 col2\" >138</td> \n",
       "        <td id=\"T_08d131e8_9cb2_11e8_a7a1_9a0014019d40row1_col3\" class=\"data row1 col3\" >1361839</td> \n",
       "        <td id=\"T_08d131e8_9cb2_11e8_a7a1_9a0014019d40row1_col4\" class=\"data row1 col4\" >84659</td> \n",
       "        <td id=\"T_08d131e8_9cb2_11e8_a7a1_9a0014019d40row1_col5\" class=\"data row1 col5\" >42124</td> \n",
       "    </tr>    <tr> \n",
       "        <th id=\"T_08d131e8_9cb2_11e8_a7a1_9a0014019d40level0_row2\" class=\"row_heading level0 row2\" >2</th> \n",
       "        <td id=\"T_08d131e8_9cb2_11e8_a7a1_9a0014019d40row2_col0\" class=\"data row2 col0\" >LL-Bib</td> \n",
       "        <td id=\"T_08d131e8_9cb2_11e8_a7a1_9a0014019d40row2_col1\" class=\"data row2 col1\" >Biblia Sacra</td> \n",
       "        <td id=\"T_08d131e8_9cb2_11e8_a7a1_9a0014019d40row2_col2\" class=\"data row2 col2\" >77</td> \n",
       "        <td id=\"T_08d131e8_9cb2_11e8_a7a1_9a0014019d40row2_col3\" class=\"data row2 col3\" >684833</td> \n",
       "        <td id=\"T_08d131e8_9cb2_11e8_a7a1_9a0014019d40row2_col4\" class=\"data row2 col4\" >50854</td> \n",
       "        <td id=\"T_08d131e8_9cb2_11e8_a7a1_9a0014019d40row2_col5\" class=\"data row2 col5\" >24544</td> \n",
       "    </tr>    <tr> \n",
       "        <th id=\"T_08d131e8_9cb2_11e8_a7a1_9a0014019d40level0_row3\" class=\"row_heading level0 row3\" >3</th> \n",
       "        <td id=\"T_08d131e8_9cb2_11e8_a7a1_9a0014019d40row3_col0\" class=\"data row3 col0\" >LL-Ius</td> \n",
       "        <td id=\"T_08d131e8_9cb2_11e8_a7a1_9a0014019d40row3_col1\" class=\"data row3 col1\" >Ius Romanum</td> \n",
       "        <td id=\"T_08d131e8_9cb2_11e8_a7a1_9a0014019d40row3_col2\" class=\"data row3 col2\" >88</td> \n",
       "        <td id=\"T_08d131e8_9cb2_11e8_a7a1_9a0014019d40row3_col3\" class=\"data row3 col3\" >2360411</td> \n",
       "        <td id=\"T_08d131e8_9cb2_11e8_a7a1_9a0014019d40row3_col4\" class=\"data row3 col4\" >71231</td> \n",
       "        <td id=\"T_08d131e8_9cb2_11e8_a7a1_9a0014019d40row3_col5\" class=\"data row3 col5\" >29197</td> \n",
       "    </tr></tbody> \n",
       "</table> "
      ],
      "text/plain": [
       "<pandas.io.formats.style.Styler at 0x11ea1e208>"
      ]
     },
     "execution_count": 10,
     "metadata": {},
     "output_type": "execute_result"
    }
   ],
   "source": [
    "# Make table\n",
    "\n",
    "data = {'Collections': colls_abbrev, 'Description': colls, 'Files': colls_file_counts, 'Tokens': colls_token_counts, 'Unique Tokens': colls_unique_counts, 'Single Tokens': colls_single_counts}\n",
    "df = pd.DataFrame.from_dict(data)\n",
    "\n",
    "df.style.set_table_styles([\n",
    "    {'selector': '.row_heading, .blank', 'props': [('display', 'none;')]}\n",
    "])"
   ]
  },
  {
   "cell_type": "code",
   "execution_count": 11,
   "metadata": {},
   "outputs": [],
   "source": [
    "c = CorpusStoplist('latin')"
   ]
  },
  {
   "cell_type": "code",
   "execution_count": 17,
   "metadata": {},
   "outputs": [
    {
     "name": "stdout",
     "output_type": "stream",
     "text": [
      "[('et', 438825), ('in', 268232), ('est', 164894), ('non', 163872), ('ad', 131026), ('ut', 117019), ('quod', 102721), ('cum', 99165), ('si', 92656), ('qui', 91811), ('de', 78294), ('sed', 73410), ('quae', 63084), ('ex', 58918), ('quam', 55256), ('per', 49955), ('esse', 48823), ('nec', 44657), ('sunt', 43471), ('hoc', 43026), ('enim', 42090), ('uel', 41193), ('se', 41124), ('aut', 40233), ('autem', 40152)]\n"
     ]
    }
   ],
   "source": [
    "ll_freq_stops = c.build_stoplist(ll_docs, size=25, basis='frequency', inc_values=True, sort_words=False)\n",
    "print(list(zip(*ll_freq_stops))[0])"
   ]
  },
  {
   "cell_type": "code",
   "execution_count": 20,
   "metadata": {},
   "outputs": [
    {
     "name": "stdout",
     "output_type": "stream",
     "text": [
      "['ad', 'aut', 'autem', 'cum', 'de', 'enim', 'esse', 'est', 'et', 'ex', 'hoc', 'in', 'nec', 'non', 'per', 'quae', 'quam', 'qui', 'quod', 'se', 'sed', 'si', 'sunt', 'uel', 'ut']\n"
     ]
    }
   ],
   "source": [
    "print(sorted(list(zip(*ll_freq_stops))[0]))"
   ]
  },
  {
   "cell_type": "code",
   "execution_count": 18,
   "metadata": {},
   "outputs": [
    {
     "data": {
      "text/html": [
       "<style  type=\"text/css\" >\n",
       "    #T_2aa7501c_9cb3_11e8_a7a1_9a0014019d40 .row_heading, .blank {\n",
       "          display: none;;\n",
       "    }</style>  \n",
       "<table id=\"T_2aa7501c_9cb3_11e8_a7a1_9a0014019d40\" > \n",
       "<thead>    <tr> \n",
       "        <th class=\"blank level0\" ></th> \n",
       "        <th class=\"col_heading level0 col0\" >Word</th> \n",
       "        <th class=\"col_heading level0 col1\" >Frequency</th> \n",
       "    </tr></thead> \n",
       "<tbody>    <tr> \n",
       "        <th id=\"T_2aa7501c_9cb3_11e8_a7a1_9a0014019d40level0_row0\" class=\"row_heading level0 row0\" >0</th> \n",
       "        <td id=\"T_2aa7501c_9cb3_11e8_a7a1_9a0014019d40row0_col0\" class=\"data row0 col0\" >et</td> \n",
       "        <td id=\"T_2aa7501c_9cb3_11e8_a7a1_9a0014019d40row0_col1\" class=\"data row0 col1\" >438825</td> \n",
       "    </tr>    <tr> \n",
       "        <th id=\"T_2aa7501c_9cb3_11e8_a7a1_9a0014019d40level0_row1\" class=\"row_heading level0 row1\" >1</th> \n",
       "        <td id=\"T_2aa7501c_9cb3_11e8_a7a1_9a0014019d40row1_col0\" class=\"data row1 col0\" >in</td> \n",
       "        <td id=\"T_2aa7501c_9cb3_11e8_a7a1_9a0014019d40row1_col1\" class=\"data row1 col1\" >268232</td> \n",
       "    </tr>    <tr> \n",
       "        <th id=\"T_2aa7501c_9cb3_11e8_a7a1_9a0014019d40level0_row2\" class=\"row_heading level0 row2\" >2</th> \n",
       "        <td id=\"T_2aa7501c_9cb3_11e8_a7a1_9a0014019d40row2_col0\" class=\"data row2 col0\" >est</td> \n",
       "        <td id=\"T_2aa7501c_9cb3_11e8_a7a1_9a0014019d40row2_col1\" class=\"data row2 col1\" >164894</td> \n",
       "    </tr>    <tr> \n",
       "        <th id=\"T_2aa7501c_9cb3_11e8_a7a1_9a0014019d40level0_row3\" class=\"row_heading level0 row3\" >3</th> \n",
       "        <td id=\"T_2aa7501c_9cb3_11e8_a7a1_9a0014019d40row3_col0\" class=\"data row3 col0\" >non</td> \n",
       "        <td id=\"T_2aa7501c_9cb3_11e8_a7a1_9a0014019d40row3_col1\" class=\"data row3 col1\" >163872</td> \n",
       "    </tr>    <tr> \n",
       "        <th id=\"T_2aa7501c_9cb3_11e8_a7a1_9a0014019d40level0_row4\" class=\"row_heading level0 row4\" >4</th> \n",
       "        <td id=\"T_2aa7501c_9cb3_11e8_a7a1_9a0014019d40row4_col0\" class=\"data row4 col0\" >ad</td> \n",
       "        <td id=\"T_2aa7501c_9cb3_11e8_a7a1_9a0014019d40row4_col1\" class=\"data row4 col1\" >131026</td> \n",
       "    </tr>    <tr> \n",
       "        <th id=\"T_2aa7501c_9cb3_11e8_a7a1_9a0014019d40level0_row5\" class=\"row_heading level0 row5\" >5</th> \n",
       "        <td id=\"T_2aa7501c_9cb3_11e8_a7a1_9a0014019d40row5_col0\" class=\"data row5 col0\" >ut</td> \n",
       "        <td id=\"T_2aa7501c_9cb3_11e8_a7a1_9a0014019d40row5_col1\" class=\"data row5 col1\" >117019</td> \n",
       "    </tr>    <tr> \n",
       "        <th id=\"T_2aa7501c_9cb3_11e8_a7a1_9a0014019d40level0_row6\" class=\"row_heading level0 row6\" >6</th> \n",
       "        <td id=\"T_2aa7501c_9cb3_11e8_a7a1_9a0014019d40row6_col0\" class=\"data row6 col0\" >quod</td> \n",
       "        <td id=\"T_2aa7501c_9cb3_11e8_a7a1_9a0014019d40row6_col1\" class=\"data row6 col1\" >102721</td> \n",
       "    </tr>    <tr> \n",
       "        <th id=\"T_2aa7501c_9cb3_11e8_a7a1_9a0014019d40level0_row7\" class=\"row_heading level0 row7\" >7</th> \n",
       "        <td id=\"T_2aa7501c_9cb3_11e8_a7a1_9a0014019d40row7_col0\" class=\"data row7 col0\" >cum</td> \n",
       "        <td id=\"T_2aa7501c_9cb3_11e8_a7a1_9a0014019d40row7_col1\" class=\"data row7 col1\" >99165</td> \n",
       "    </tr>    <tr> \n",
       "        <th id=\"T_2aa7501c_9cb3_11e8_a7a1_9a0014019d40level0_row8\" class=\"row_heading level0 row8\" >8</th> \n",
       "        <td id=\"T_2aa7501c_9cb3_11e8_a7a1_9a0014019d40row8_col0\" class=\"data row8 col0\" >si</td> \n",
       "        <td id=\"T_2aa7501c_9cb3_11e8_a7a1_9a0014019d40row8_col1\" class=\"data row8 col1\" >92656</td> \n",
       "    </tr>    <tr> \n",
       "        <th id=\"T_2aa7501c_9cb3_11e8_a7a1_9a0014019d40level0_row9\" class=\"row_heading level0 row9\" >9</th> \n",
       "        <td id=\"T_2aa7501c_9cb3_11e8_a7a1_9a0014019d40row9_col0\" class=\"data row9 col0\" >qui</td> \n",
       "        <td id=\"T_2aa7501c_9cb3_11e8_a7a1_9a0014019d40row9_col1\" class=\"data row9 col1\" >91811</td> \n",
       "    </tr>    <tr> \n",
       "        <th id=\"T_2aa7501c_9cb3_11e8_a7a1_9a0014019d40level0_row10\" class=\"row_heading level0 row10\" >10</th> \n",
       "        <td id=\"T_2aa7501c_9cb3_11e8_a7a1_9a0014019d40row10_col0\" class=\"data row10 col0\" >de</td> \n",
       "        <td id=\"T_2aa7501c_9cb3_11e8_a7a1_9a0014019d40row10_col1\" class=\"data row10 col1\" >78294</td> \n",
       "    </tr>    <tr> \n",
       "        <th id=\"T_2aa7501c_9cb3_11e8_a7a1_9a0014019d40level0_row11\" class=\"row_heading level0 row11\" >11</th> \n",
       "        <td id=\"T_2aa7501c_9cb3_11e8_a7a1_9a0014019d40row11_col0\" class=\"data row11 col0\" >sed</td> \n",
       "        <td id=\"T_2aa7501c_9cb3_11e8_a7a1_9a0014019d40row11_col1\" class=\"data row11 col1\" >73410</td> \n",
       "    </tr>    <tr> \n",
       "        <th id=\"T_2aa7501c_9cb3_11e8_a7a1_9a0014019d40level0_row12\" class=\"row_heading level0 row12\" >12</th> \n",
       "        <td id=\"T_2aa7501c_9cb3_11e8_a7a1_9a0014019d40row12_col0\" class=\"data row12 col0\" >quae</td> \n",
       "        <td id=\"T_2aa7501c_9cb3_11e8_a7a1_9a0014019d40row12_col1\" class=\"data row12 col1\" >63084</td> \n",
       "    </tr>    <tr> \n",
       "        <th id=\"T_2aa7501c_9cb3_11e8_a7a1_9a0014019d40level0_row13\" class=\"row_heading level0 row13\" >13</th> \n",
       "        <td id=\"T_2aa7501c_9cb3_11e8_a7a1_9a0014019d40row13_col0\" class=\"data row13 col0\" >ex</td> \n",
       "        <td id=\"T_2aa7501c_9cb3_11e8_a7a1_9a0014019d40row13_col1\" class=\"data row13 col1\" >58918</td> \n",
       "    </tr>    <tr> \n",
       "        <th id=\"T_2aa7501c_9cb3_11e8_a7a1_9a0014019d40level0_row14\" class=\"row_heading level0 row14\" >14</th> \n",
       "        <td id=\"T_2aa7501c_9cb3_11e8_a7a1_9a0014019d40row14_col0\" class=\"data row14 col0\" >quam</td> \n",
       "        <td id=\"T_2aa7501c_9cb3_11e8_a7a1_9a0014019d40row14_col1\" class=\"data row14 col1\" >55256</td> \n",
       "    </tr>    <tr> \n",
       "        <th id=\"T_2aa7501c_9cb3_11e8_a7a1_9a0014019d40level0_row15\" class=\"row_heading level0 row15\" >15</th> \n",
       "        <td id=\"T_2aa7501c_9cb3_11e8_a7a1_9a0014019d40row15_col0\" class=\"data row15 col0\" >per</td> \n",
       "        <td id=\"T_2aa7501c_9cb3_11e8_a7a1_9a0014019d40row15_col1\" class=\"data row15 col1\" >49955</td> \n",
       "    </tr>    <tr> \n",
       "        <th id=\"T_2aa7501c_9cb3_11e8_a7a1_9a0014019d40level0_row16\" class=\"row_heading level0 row16\" >16</th> \n",
       "        <td id=\"T_2aa7501c_9cb3_11e8_a7a1_9a0014019d40row16_col0\" class=\"data row16 col0\" >esse</td> \n",
       "        <td id=\"T_2aa7501c_9cb3_11e8_a7a1_9a0014019d40row16_col1\" class=\"data row16 col1\" >48823</td> \n",
       "    </tr>    <tr> \n",
       "        <th id=\"T_2aa7501c_9cb3_11e8_a7a1_9a0014019d40level0_row17\" class=\"row_heading level0 row17\" >17</th> \n",
       "        <td id=\"T_2aa7501c_9cb3_11e8_a7a1_9a0014019d40row17_col0\" class=\"data row17 col0\" >nec</td> \n",
       "        <td id=\"T_2aa7501c_9cb3_11e8_a7a1_9a0014019d40row17_col1\" class=\"data row17 col1\" >44657</td> \n",
       "    </tr>    <tr> \n",
       "        <th id=\"T_2aa7501c_9cb3_11e8_a7a1_9a0014019d40level0_row18\" class=\"row_heading level0 row18\" >18</th> \n",
       "        <td id=\"T_2aa7501c_9cb3_11e8_a7a1_9a0014019d40row18_col0\" class=\"data row18 col0\" >sunt</td> \n",
       "        <td id=\"T_2aa7501c_9cb3_11e8_a7a1_9a0014019d40row18_col1\" class=\"data row18 col1\" >43471</td> \n",
       "    </tr>    <tr> \n",
       "        <th id=\"T_2aa7501c_9cb3_11e8_a7a1_9a0014019d40level0_row19\" class=\"row_heading level0 row19\" >19</th> \n",
       "        <td id=\"T_2aa7501c_9cb3_11e8_a7a1_9a0014019d40row19_col0\" class=\"data row19 col0\" >hoc</td> \n",
       "        <td id=\"T_2aa7501c_9cb3_11e8_a7a1_9a0014019d40row19_col1\" class=\"data row19 col1\" >43026</td> \n",
       "    </tr>    <tr> \n",
       "        <th id=\"T_2aa7501c_9cb3_11e8_a7a1_9a0014019d40level0_row20\" class=\"row_heading level0 row20\" >20</th> \n",
       "        <td id=\"T_2aa7501c_9cb3_11e8_a7a1_9a0014019d40row20_col0\" class=\"data row20 col0\" >enim</td> \n",
       "        <td id=\"T_2aa7501c_9cb3_11e8_a7a1_9a0014019d40row20_col1\" class=\"data row20 col1\" >42090</td> \n",
       "    </tr>    <tr> \n",
       "        <th id=\"T_2aa7501c_9cb3_11e8_a7a1_9a0014019d40level0_row21\" class=\"row_heading level0 row21\" >21</th> \n",
       "        <td id=\"T_2aa7501c_9cb3_11e8_a7a1_9a0014019d40row21_col0\" class=\"data row21 col0\" >uel</td> \n",
       "        <td id=\"T_2aa7501c_9cb3_11e8_a7a1_9a0014019d40row21_col1\" class=\"data row21 col1\" >41193</td> \n",
       "    </tr>    <tr> \n",
       "        <th id=\"T_2aa7501c_9cb3_11e8_a7a1_9a0014019d40level0_row22\" class=\"row_heading level0 row22\" >22</th> \n",
       "        <td id=\"T_2aa7501c_9cb3_11e8_a7a1_9a0014019d40row22_col0\" class=\"data row22 col0\" >se</td> \n",
       "        <td id=\"T_2aa7501c_9cb3_11e8_a7a1_9a0014019d40row22_col1\" class=\"data row22 col1\" >41124</td> \n",
       "    </tr>    <tr> \n",
       "        <th id=\"T_2aa7501c_9cb3_11e8_a7a1_9a0014019d40level0_row23\" class=\"row_heading level0 row23\" >23</th> \n",
       "        <td id=\"T_2aa7501c_9cb3_11e8_a7a1_9a0014019d40row23_col0\" class=\"data row23 col0\" >aut</td> \n",
       "        <td id=\"T_2aa7501c_9cb3_11e8_a7a1_9a0014019d40row23_col1\" class=\"data row23 col1\" >40233</td> \n",
       "    </tr>    <tr> \n",
       "        <th id=\"T_2aa7501c_9cb3_11e8_a7a1_9a0014019d40level0_row24\" class=\"row_heading level0 row24\" >24</th> \n",
       "        <td id=\"T_2aa7501c_9cb3_11e8_a7a1_9a0014019d40row24_col0\" class=\"data row24 col0\" >autem</td> \n",
       "        <td id=\"T_2aa7501c_9cb3_11e8_a7a1_9a0014019d40row24_col1\" class=\"data row24 col1\" >40152</td> \n",
       "    </tr></tbody> \n",
       "</table> "
      ],
      "text/plain": [
       "<pandas.io.formats.style.Styler at 0x1748680f0>"
      ]
     },
     "execution_count": 18,
     "metadata": {},
     "output_type": "execute_result"
    }
   ],
   "source": [
    "words, values = zip(*ll_freq_stops)\n",
    "data = {'Word': words, 'Frequency': values}\n",
    "df = pd.DataFrame.from_dict(data)\n",
    "\n",
    "df.style.set_table_styles([\n",
    "    {'selector': '.row_heading, .blank', 'props': [('display', 'none;')]}\n",
    "])"
   ]
  },
  {
   "cell_type": "code",
   "execution_count": 21,
   "metadata": {},
   "outputs": [
    {
     "name": "stdout",
     "output_type": "stream",
     "text": [
      "['ad', 'atque', 'aut', 'cum', 'de', 'enim', 'esse', 'est', 'et', 'etiam', 'ex', 'hoc', 'in', 'me', 'mihi', 'non', 'quae', 'quam', 'qui', 'quid', 'quod', 'sed', 'si', 'te', 'ut']\n"
     ]
    }
   ],
   "source": [
    "cic_freq_stops = c.build_stoplist(cic_docs, size=25, basis='frequency', inc_values=False)\n",
    "print(cic_freq_stops)"
   ]
  },
  {
   "cell_type": "code",
   "execution_count": 22,
   "metadata": {},
   "outputs": [
    {
     "name": "stdout",
     "output_type": "stream",
     "text": [
      "['ad', 'autem', 'cum', 'de', 'deus', 'domini', 'dominus', 'eius', 'enim', 'eos', 'est', 'et', 'eum', 'in', 'israhel', 'me', 'non', 'quae', 'qui', 'quia', 'quod', 'sunt', 'super', 'te', 'ut']\n"
     ]
    }
   ],
   "source": [
    "bib_freq_stops = c.build_stoplist(bib_docs, size=25, basis='frequency', inc_values=False)\n",
    "print(bib_freq_stops)"
   ]
  },
  {
   "cell_type": "code",
   "execution_count": 23,
   "metadata": {},
   "outputs": [
    {
     "name": "stdout",
     "output_type": "stream",
     "text": [
      "['ad', 'aut', 'ci', 'conss', 'cum', 'de', 'dig', 'ed', 'esse', 'est', 'et', 'ex', 'hoc', 'id', 'in', 'non', 'quae', 'qui', 'quod', 'sed', 'si', 'sit', 'uel', 'ulpianus', 'ut']\n"
     ]
    }
   ],
   "source": [
    "ius_freq_stops = c.build_stoplist(ius_docs, size=25, basis='frequency', inc_values=False)\n",
    "print(ius_freq_stops)"
   ]
  },
  {
   "cell_type": "code",
   "execution_count": 24,
   "metadata": {},
   "outputs": [
    {
     "name": "stdout",
     "output_type": "stream",
     "text": [
      "[('ad', 0.008868650848423294), ('atque', 0.00436167152162217), ('aut', 0.00556467118374423), ('cum', 0.010126709007477934), ('de', 0.00718002786254848), ('enim', 0.005821603018043596), ('esse', 0.008112803360538887), ('est', 0.012972884528270714), ('et', 0.023066765999706636), ('etiam', 0.004821056704311927), ('ex', 0.004414692768747299), ('hoc', 0.004349842163502997), ('in', 0.019762320675769322), ('me', 0.005838325477431875), ('mihi', 0.00405195693089243), ('non', 0.01550952166175899), ('quae', 0.006651064673980416), ('quam', 0.007083653585908187), ('qui', 0.008573038153051608), ('quid', 0.00533808081931531), ('quod', 0.009131624568647143), ('sed', 0.007811200529349928), ('si', 0.00823708787137525), ('te', 0.005729445842959163), ('ut', 0.012302617380402503)]\n"
     ]
    }
   ],
   "source": [
    "cic_mean_stops = c.build_stoplist(cic_docs, size=25, basis='mean', inc_values=True)\n",
    "print(cic_mean_stops)"
   ]
  },
  {
   "cell_type": "code",
   "execution_count": 25,
   "metadata": {},
   "outputs": [
    {
     "name": "stdout",
     "output_type": "stream",
     "text": [
      "[('ad', 8.671632756845375e-05), ('atque', 2.641496237121225e-05), ('aut', 4.90936891891087e-05), ('cum', 0.00010912207383475996), ('de', 5.886823178032977e-05), ('enim', 4.020005598993664e-05), ('esse', 7.171833606117633e-05), ('est', 0.0001838499615104435), ('et', 0.0005641948080530672), ('etiam', 2.5831891081588447e-05), ('ex', 2.409054806686975e-05), ('hoc', 2.20723116231951e-05), ('in', 0.00039979283807088965), ('me', 6.115689201714936e-05), ('mihi', 2.6028589738983625e-05), ('non', 0.0002523842764074881), ('quae', 5.237976921478452e-05), ('quam', 5.767995478841798e-05), ('qui', 8.189376959070727e-05), ('quid', 3.2333137998599984e-05), ('quod', 8.88225949408833e-05), ('sed', 6.751202612126696e-05), ('si', 7.488524747399057e-05), ('te', 6.554681435550538e-05), ('ut', 0.00016076030985712696)]\n"
     ]
    }
   ],
   "source": [
    "cic_variance_stops = c.build_stoplist(cic_docs, size=25, basis='variance', inc_values=True)\n",
    "print(cic_variance_stops)"
   ]
  },
  {
   "cell_type": "code",
   "execution_count": 26,
   "metadata": {},
   "outputs": [
    {
     "name": "stdout",
     "output_type": "stream",
     "text": [
      "[('ad', 2.4792060765261255), ('atque', 1.3706427272074302), ('aut', 1.6616399896744882), ('cum', 2.757862793786304), ('de', 2.089676434710912), ('enim', 1.7570592740896032), ('esse', 2.3138531143504157), ('est', 3.3345397959458056), ('et', 5.161713066585444), ('etiam', 1.5208735992904556), ('ex', 1.403614100452883), ('hoc', 1.3930920633606787), ('in', 4.623517566572637), ('me', 1.6572491006667622), ('mihi', 1.2674271105554247), ('non', 3.837931138878116), ('quae', 1.9597062651709616), ('quam', 2.0754723536848), ('qui', 2.4093778369827463), ('quid', 1.6473232771340665), ('quod', 2.5457005142781735), ('sed', 2.2397454511212103), ('si', 2.3376757959213985), ('te', 1.6026890003209369), ('ut', 3.2105839980402955)]\n"
     ]
    }
   ],
   "source": [
    "cic_entropy_stops = c.build_stoplist(cic_docs, size=25, basis='entropy', inc_values=True)\n",
    "print(cic_entropy_stops)"
   ]
  },
  {
   "cell_type": "code",
   "execution_count": 28,
   "metadata": {},
   "outputs": [
    {
     "name": "stdout",
     "output_type": "stream",
     "text": [
      "['ad', 'atque', 'aut', 'cum', 'de', 'enim', 'esse', 'est', 'et', 'etiam', 'ex', 'hoc', 'in', 'me', 'mihi', 'non', 'quae', 'quam', 'qui', 'quid', 'quod', 'sed', 'si', 'te', 'ut']\n"
     ]
    }
   ],
   "source": [
    "cic_stops = c.build_stoplist(cic_docs, size=25, basis='zou', inc_values=False)\n",
    "print(cic_stops)"
   ]
  },
  {
   "cell_type": "code",
   "execution_count": 29,
   "metadata": {},
   "outputs": [
    {
     "name": "stdout",
     "output_type": "stream",
     "text": [
      "['ab', 'ac', 'ad', 'an', 'ante', 'apud', 'atque', 'aut', 'autem', 'causa', 'cum', 'de', 'ea', 'ego', 'eius', 'enim', 'eo', 'erat', 'esse', 'esset', 'est', 'et', 'etiam', 'eum', 'ex', 'fuit', 'haec', 'hic', 'hoc', 'iam', 'id', 'igitur', 'iis', 'illa', 'ille', 'illud', 'in', 'ipse', 'is', 'ita', 'itaque', 'me', 'mihi', 'modo', 'nam', 'ne', 'nec', 'neque', 'nihil', 'nisi', 'nobis', 'non', 'nos', 'nunc', 'omnes', 'omnia', 'omnibus', 'omnium', 'per', 'potest', 'pro', 'publica', 'publicae', 'qua', 'quae', 'quam', 'quasi', 'quem', 'qui', 'quibus', 'quid', 'quidem', 'quis', 'quo', 'quod', 'quos', 're', 'rebus', 'rei', 'rem', 'rerum', 'res', 'se', 'sed', 'senatus', 'si', 'sic', 'sine', 'sit', 'sunt', 'tam', 'tamen', 'te', 'tibi', 'tu', 'tum', 'uel', 'uero', 'uos', 'ut']\n"
     ]
    }
   ],
   "source": [
    "cic_stops = c.build_stoplist(cic_docs, size=100, basis='zou', inc_values=False)\n",
    "print(cic_stops)"
   ]
  },
  {
   "cell_type": "markdown",
   "metadata": {},
   "source": [
    "## Top value lists for LL"
   ]
  },
  {
   "cell_type": "code",
   "execution_count": 30,
   "metadata": {},
   "outputs": [
    {
     "data": {
      "text/html": [
       "<style  type=\"text/css\" >\n",
       "    #T_6595dd0e_9cb5_11e8_a7a1_9a0014019d40 .row_heading, .blank {\n",
       "          display: none;;\n",
       "    }</style>  \n",
       "<table id=\"T_6595dd0e_9cb5_11e8_a7a1_9a0014019d40\" > \n",
       "<thead>    <tr> \n",
       "        <th class=\"blank level0\" ></th> \n",
       "        <th class=\"col_heading level0 col0\" >Word</th> \n",
       "        <th class=\"col_heading level0 col1\" >Frequency</th> \n",
       "    </tr></thead> \n",
       "<tbody>    <tr> \n",
       "        <th id=\"T_6595dd0e_9cb5_11e8_a7a1_9a0014019d40level0_row0\" class=\"row_heading level0 row0\" >0</th> \n",
       "        <td id=\"T_6595dd0e_9cb5_11e8_a7a1_9a0014019d40row0_col0\" class=\"data row0 col0\" >et</td> \n",
       "        <td id=\"T_6595dd0e_9cb5_11e8_a7a1_9a0014019d40row0_col1\" class=\"data row0 col1\" >438825</td> \n",
       "    </tr>    <tr> \n",
       "        <th id=\"T_6595dd0e_9cb5_11e8_a7a1_9a0014019d40level0_row1\" class=\"row_heading level0 row1\" >1</th> \n",
       "        <td id=\"T_6595dd0e_9cb5_11e8_a7a1_9a0014019d40row1_col0\" class=\"data row1 col0\" >in</td> \n",
       "        <td id=\"T_6595dd0e_9cb5_11e8_a7a1_9a0014019d40row1_col1\" class=\"data row1 col1\" >268232</td> \n",
       "    </tr>    <tr> \n",
       "        <th id=\"T_6595dd0e_9cb5_11e8_a7a1_9a0014019d40level0_row2\" class=\"row_heading level0 row2\" >2</th> \n",
       "        <td id=\"T_6595dd0e_9cb5_11e8_a7a1_9a0014019d40row2_col0\" class=\"data row2 col0\" >est</td> \n",
       "        <td id=\"T_6595dd0e_9cb5_11e8_a7a1_9a0014019d40row2_col1\" class=\"data row2 col1\" >164894</td> \n",
       "    </tr>    <tr> \n",
       "        <th id=\"T_6595dd0e_9cb5_11e8_a7a1_9a0014019d40level0_row3\" class=\"row_heading level0 row3\" >3</th> \n",
       "        <td id=\"T_6595dd0e_9cb5_11e8_a7a1_9a0014019d40row3_col0\" class=\"data row3 col0\" >non</td> \n",
       "        <td id=\"T_6595dd0e_9cb5_11e8_a7a1_9a0014019d40row3_col1\" class=\"data row3 col1\" >163872</td> \n",
       "    </tr>    <tr> \n",
       "        <th id=\"T_6595dd0e_9cb5_11e8_a7a1_9a0014019d40level0_row4\" class=\"row_heading level0 row4\" >4</th> \n",
       "        <td id=\"T_6595dd0e_9cb5_11e8_a7a1_9a0014019d40row4_col0\" class=\"data row4 col0\" >ad</td> \n",
       "        <td id=\"T_6595dd0e_9cb5_11e8_a7a1_9a0014019d40row4_col1\" class=\"data row4 col1\" >131026</td> \n",
       "    </tr>    <tr> \n",
       "        <th id=\"T_6595dd0e_9cb5_11e8_a7a1_9a0014019d40level0_row5\" class=\"row_heading level0 row5\" >5</th> \n",
       "        <td id=\"T_6595dd0e_9cb5_11e8_a7a1_9a0014019d40row5_col0\" class=\"data row5 col0\" >ut</td> \n",
       "        <td id=\"T_6595dd0e_9cb5_11e8_a7a1_9a0014019d40row5_col1\" class=\"data row5 col1\" >117019</td> \n",
       "    </tr>    <tr> \n",
       "        <th id=\"T_6595dd0e_9cb5_11e8_a7a1_9a0014019d40level0_row6\" class=\"row_heading level0 row6\" >6</th> \n",
       "        <td id=\"T_6595dd0e_9cb5_11e8_a7a1_9a0014019d40row6_col0\" class=\"data row6 col0\" >quod</td> \n",
       "        <td id=\"T_6595dd0e_9cb5_11e8_a7a1_9a0014019d40row6_col1\" class=\"data row6 col1\" >102721</td> \n",
       "    </tr>    <tr> \n",
       "        <th id=\"T_6595dd0e_9cb5_11e8_a7a1_9a0014019d40level0_row7\" class=\"row_heading level0 row7\" >7</th> \n",
       "        <td id=\"T_6595dd0e_9cb5_11e8_a7a1_9a0014019d40row7_col0\" class=\"data row7 col0\" >cum</td> \n",
       "        <td id=\"T_6595dd0e_9cb5_11e8_a7a1_9a0014019d40row7_col1\" class=\"data row7 col1\" >99165</td> \n",
       "    </tr>    <tr> \n",
       "        <th id=\"T_6595dd0e_9cb5_11e8_a7a1_9a0014019d40level0_row8\" class=\"row_heading level0 row8\" >8</th> \n",
       "        <td id=\"T_6595dd0e_9cb5_11e8_a7a1_9a0014019d40row8_col0\" class=\"data row8 col0\" >si</td> \n",
       "        <td id=\"T_6595dd0e_9cb5_11e8_a7a1_9a0014019d40row8_col1\" class=\"data row8 col1\" >92656</td> \n",
       "    </tr>    <tr> \n",
       "        <th id=\"T_6595dd0e_9cb5_11e8_a7a1_9a0014019d40level0_row9\" class=\"row_heading level0 row9\" >9</th> \n",
       "        <td id=\"T_6595dd0e_9cb5_11e8_a7a1_9a0014019d40row9_col0\" class=\"data row9 col0\" >qui</td> \n",
       "        <td id=\"T_6595dd0e_9cb5_11e8_a7a1_9a0014019d40row9_col1\" class=\"data row9 col1\" >91811</td> \n",
       "    </tr></tbody> \n",
       "</table> "
      ],
      "text/plain": [
       "<pandas.io.formats.style.Styler at 0x15f3d2ac8>"
      ]
     },
     "execution_count": 30,
     "metadata": {},
     "output_type": "execute_result"
    }
   ],
   "source": [
    "ll_freq_stops = c.build_stoplist(ll_docs, size=25, basis='frequency', inc_values=True, sort_words=False)\n",
    "\n",
    "words, values = zip(*ll_freq_stops)\n",
    "data = {'Word': words, 'Frequency': values}\n",
    "df = pd.DataFrame.from_dict(data)\n",
    "\n",
    "df.style.set_table_styles([\n",
    "    {'selector': '.row_heading, .blank', 'props': [('display', 'none;')]}\n",
    "])"
   ]
  },
  {
   "cell_type": "code",
   "execution_count": 31,
   "metadata": {},
   "outputs": [
    {
     "data": {
      "text/html": [
       "<style  type=\"text/css\" >\n",
       "    #T_97559ca8_9cb5_11e8_a7a1_9a0014019d40 .row_heading, .blank {\n",
       "          display: none;;\n",
       "    }</style>  \n",
       "<table id=\"T_97559ca8_9cb5_11e8_a7a1_9a0014019d40\" > \n",
       "<thead>    <tr> \n",
       "        <th class=\"blank level0\" ></th> \n",
       "        <th class=\"col_heading level0 col0\" >Word</th> \n",
       "        <th class=\"col_heading level0 col1\" >Frequency</th> \n",
       "    </tr></thead> \n",
       "<tbody>    <tr> \n",
       "        <th id=\"T_97559ca8_9cb5_11e8_a7a1_9a0014019d40level0_row0\" class=\"row_heading level0 row0\" >0</th> \n",
       "        <td id=\"T_97559ca8_9cb5_11e8_a7a1_9a0014019d40row0_col0\" class=\"data row0 col0\" >et</td> \n",
       "        <td id=\"T_97559ca8_9cb5_11e8_a7a1_9a0014019d40row0_col1\" class=\"data row0 col1\" >0.0324513</td> \n",
       "    </tr>    <tr> \n",
       "        <th id=\"T_97559ca8_9cb5_11e8_a7a1_9a0014019d40level0_row1\" class=\"row_heading level0 row1\" >1</th> \n",
       "        <td id=\"T_97559ca8_9cb5_11e8_a7a1_9a0014019d40row1_col0\" class=\"data row1 col0\" >in</td> \n",
       "        <td id=\"T_97559ca8_9cb5_11e8_a7a1_9a0014019d40row1_col1\" class=\"data row1 col1\" >0.0201319</td> \n",
       "    </tr>    <tr> \n",
       "        <th id=\"T_97559ca8_9cb5_11e8_a7a1_9a0014019d40level0_row2\" class=\"row_heading level0 row2\" >2</th> \n",
       "        <td id=\"T_97559ca8_9cb5_11e8_a7a1_9a0014019d40row2_col0\" class=\"data row2 col0\" >est</td> \n",
       "        <td id=\"T_97559ca8_9cb5_11e8_a7a1_9a0014019d40row2_col1\" class=\"data row2 col1\" >0.0130033</td> \n",
       "    </tr>    <tr> \n",
       "        <th id=\"T_97559ca8_9cb5_11e8_a7a1_9a0014019d40level0_row3\" class=\"row_heading level0 row3\" >3</th> \n",
       "        <td id=\"T_97559ca8_9cb5_11e8_a7a1_9a0014019d40row3_col0\" class=\"data row3 col0\" >non</td> \n",
       "        <td id=\"T_97559ca8_9cb5_11e8_a7a1_9a0014019d40row3_col1\" class=\"data row3 col1\" >0.0117544</td> \n",
       "    </tr>    <tr> \n",
       "        <th id=\"T_97559ca8_9cb5_11e8_a7a1_9a0014019d40level0_row4\" class=\"row_heading level0 row4\" >4</th> \n",
       "        <td id=\"T_97559ca8_9cb5_11e8_a7a1_9a0014019d40row4_col0\" class=\"data row4 col0\" >ad</td> \n",
       "        <td id=\"T_97559ca8_9cb5_11e8_a7a1_9a0014019d40row4_col1\" class=\"data row4 col1\" >0.00871411</td> \n",
       "    </tr>    <tr> \n",
       "        <th id=\"T_97559ca8_9cb5_11e8_a7a1_9a0014019d40level0_row5\" class=\"row_heading level0 row5\" >5</th> \n",
       "        <td id=\"T_97559ca8_9cb5_11e8_a7a1_9a0014019d40row5_col0\" class=\"data row5 col0\" >ut</td> \n",
       "        <td id=\"T_97559ca8_9cb5_11e8_a7a1_9a0014019d40row5_col1\" class=\"data row5 col1\" >0.00864474</td> \n",
       "    </tr>    <tr> \n",
       "        <th id=\"T_97559ca8_9cb5_11e8_a7a1_9a0014019d40level0_row6\" class=\"row_heading level0 row6\" >6</th> \n",
       "        <td id=\"T_97559ca8_9cb5_11e8_a7a1_9a0014019d40row6_col0\" class=\"data row6 col0\" >cum</td> \n",
       "        <td id=\"T_97559ca8_9cb5_11e8_a7a1_9a0014019d40row6_col1\" class=\"data row6 col1\" >0.00806065</td> \n",
       "    </tr>    <tr> \n",
       "        <th id=\"T_97559ca8_9cb5_11e8_a7a1_9a0014019d40level0_row7\" class=\"row_heading level0 row7\" >7</th> \n",
       "        <td id=\"T_97559ca8_9cb5_11e8_a7a1_9a0014019d40row7_col0\" class=\"data row7 col0\" >quod</td> \n",
       "        <td id=\"T_97559ca8_9cb5_11e8_a7a1_9a0014019d40row7_col1\" class=\"data row7 col1\" >0.00771674</td> \n",
       "    </tr>    <tr> \n",
       "        <th id=\"T_97559ca8_9cb5_11e8_a7a1_9a0014019d40level0_row8\" class=\"row_heading level0 row8\" >8</th> \n",
       "        <td id=\"T_97559ca8_9cb5_11e8_a7a1_9a0014019d40row8_col0\" class=\"data row8 col0\" >qui</td> \n",
       "        <td id=\"T_97559ca8_9cb5_11e8_a7a1_9a0014019d40row8_col1\" class=\"data row8 col1\" >0.00659552</td> \n",
       "    </tr>    <tr> \n",
       "        <th id=\"T_97559ca8_9cb5_11e8_a7a1_9a0014019d40level0_row9\" class=\"row_heading level0 row9\" >9</th> \n",
       "        <td id=\"T_97559ca8_9cb5_11e8_a7a1_9a0014019d40row9_col0\" class=\"data row9 col0\" >si</td> \n",
       "        <td id=\"T_97559ca8_9cb5_11e8_a7a1_9a0014019d40row9_col1\" class=\"data row9 col1\" >0.00560924</td> \n",
       "    </tr></tbody> \n",
       "</table> "
      ],
      "text/plain": [
       "<pandas.io.formats.style.Styler at 0x16f25bd30>"
      ]
     },
     "execution_count": 31,
     "metadata": {},
     "output_type": "execute_result"
    }
   ],
   "source": [
    "ll_mean_stops = c.build_stoplist(ll_docs, size=25, basis='mean', inc_values=True, sort_words=False)\n",
    "\n",
    "words, values = zip(*ll_mean_stops)\n",
    "data = {'Word': words, 'Frequency': values}\n",
    "df = pd.DataFrame.from_dict(data)\n",
    "\n",
    "df.style.set_table_styles([\n",
    "    {'selector': '.row_heading, .blank', 'props': [('display', 'none;')]}\n",
    "])"
   ]
  },
  {
   "cell_type": "code",
   "execution_count": 32,
   "metadata": {},
   "outputs": [
    {
     "data": {
      "text/html": [
       "<style  type=\"text/css\" >\n",
       "    #T_e8108f5e_9cb5_11e8_a7a1_9a0014019d40 .row_heading, .blank {\n",
       "          display: none;;\n",
       "    }</style>  \n",
       "<table id=\"T_e8108f5e_9cb5_11e8_a7a1_9a0014019d40\" > \n",
       "<thead>    <tr> \n",
       "        <th class=\"blank level0\" ></th> \n",
       "        <th class=\"col_heading level0 col0\" >Word</th> \n",
       "        <th class=\"col_heading level0 col1\" >Frequency</th> \n",
       "    </tr></thead> \n",
       "<tbody>    <tr> \n",
       "        <th id=\"T_e8108f5e_9cb5_11e8_a7a1_9a0014019d40level0_row0\" class=\"row_heading level0 row0\" >0</th> \n",
       "        <td id=\"T_e8108f5e_9cb5_11e8_a7a1_9a0014019d40row0_col0\" class=\"data row0 col0\" >et</td> \n",
       "        <td id=\"T_e8108f5e_9cb5_11e8_a7a1_9a0014019d40row0_col1\" class=\"data row0 col1\" >0.00136682</td> \n",
       "    </tr>    <tr> \n",
       "        <th id=\"T_e8108f5e_9cb5_11e8_a7a1_9a0014019d40level0_row1\" class=\"row_heading level0 row1\" >1</th> \n",
       "        <td id=\"T_e8108f5e_9cb5_11e8_a7a1_9a0014019d40row1_col0\" class=\"data row1 col0\" >in</td> \n",
       "        <td id=\"T_e8108f5e_9cb5_11e8_a7a1_9a0014019d40row1_col1\" class=\"data row1 col1\" >0.000504233</td> \n",
       "    </tr>    <tr> \n",
       "        <th id=\"T_e8108f5e_9cb5_11e8_a7a1_9a0014019d40level0_row2\" class=\"row_heading level0 row2\" >2</th> \n",
       "        <td id=\"T_e8108f5e_9cb5_11e8_a7a1_9a0014019d40row2_col0\" class=\"data row2 col0\" >est</td> \n",
       "        <td id=\"T_e8108f5e_9cb5_11e8_a7a1_9a0014019d40row2_col1\" class=\"data row2 col1\" >0.000261346</td> \n",
       "    </tr>    <tr> \n",
       "        <th id=\"T_e8108f5e_9cb5_11e8_a7a1_9a0014019d40level0_row3\" class=\"row_heading level0 row3\" >3</th> \n",
       "        <td id=\"T_e8108f5e_9cb5_11e8_a7a1_9a0014019d40row3_col0\" class=\"data row3 col0\" >non</td> \n",
       "        <td id=\"T_e8108f5e_9cb5_11e8_a7a1_9a0014019d40row3_col1\" class=\"data row3 col1\" >0.000196141</td> \n",
       "    </tr>    <tr> \n",
       "        <th id=\"T_e8108f5e_9cb5_11e8_a7a1_9a0014019d40level0_row4\" class=\"row_heading level0 row4\" >4</th> \n",
       "        <td id=\"T_e8108f5e_9cb5_11e8_a7a1_9a0014019d40row4_col0\" class=\"data row4 col0\" >ad</td> \n",
       "        <td id=\"T_e8108f5e_9cb5_11e8_a7a1_9a0014019d40row4_col1\" class=\"data row4 col1\" >0.000111013</td> \n",
       "    </tr>    <tr> \n",
       "        <th id=\"T_e8108f5e_9cb5_11e8_a7a1_9a0014019d40level0_row5\" class=\"row_heading level0 row5\" >5</th> \n",
       "        <td id=\"T_e8108f5e_9cb5_11e8_a7a1_9a0014019d40row5_col0\" class=\"data row5 col0\" >quod</td> \n",
       "        <td id=\"T_e8108f5e_9cb5_11e8_a7a1_9a0014019d40row5_col1\" class=\"data row5 col1\" >0.000110762</td> \n",
       "    </tr>    <tr> \n",
       "        <th id=\"T_e8108f5e_9cb5_11e8_a7a1_9a0014019d40level0_row6\" class=\"row_heading level0 row6\" >6</th> \n",
       "        <td id=\"T_e8108f5e_9cb5_11e8_a7a1_9a0014019d40row6_col0\" class=\"data row6 col0\" >cum</td> \n",
       "        <td id=\"T_e8108f5e_9cb5_11e8_a7a1_9a0014019d40row6_col1\" class=\"data row6 col1\" >0.000107114</td> \n",
       "    </tr>    <tr> \n",
       "        <th id=\"T_e8108f5e_9cb5_11e8_a7a1_9a0014019d40level0_row7\" class=\"row_heading level0 row7\" >7</th> \n",
       "        <td id=\"T_e8108f5e_9cb5_11e8_a7a1_9a0014019d40row7_col0\" class=\"data row7 col0\" >ut</td> \n",
       "        <td id=\"T_e8108f5e_9cb5_11e8_a7a1_9a0014019d40row7_col1\" class=\"data row7 col1\" >0.000104016</td> \n",
       "    </tr>    <tr> \n",
       "        <th id=\"T_e8108f5e_9cb5_11e8_a7a1_9a0014019d40level0_row8\" class=\"row_heading level0 row8\" >8</th> \n",
       "        <td id=\"T_e8108f5e_9cb5_11e8_a7a1_9a0014019d40row8_col0\" class=\"data row8 col0\" >qui</td> \n",
       "        <td id=\"T_e8108f5e_9cb5_11e8_a7a1_9a0014019d40row8_col1\" class=\"data row8 col1\" >6.78587e-05</td> \n",
       "    </tr>    <tr> \n",
       "        <th id=\"T_e8108f5e_9cb5_11e8_a7a1_9a0014019d40level0_row9\" class=\"row_heading level0 row9\" >9</th> \n",
       "        <td id=\"T_e8108f5e_9cb5_11e8_a7a1_9a0014019d40row9_col0\" class=\"data row9 col0\" >de</td> \n",
       "        <td id=\"T_e8108f5e_9cb5_11e8_a7a1_9a0014019d40row9_col1\" class=\"data row9 col1\" >6.11444e-05</td> \n",
       "    </tr></tbody> \n",
       "</table> "
      ],
      "text/plain": [
       "<pandas.io.formats.style.Styler at 0x173225278>"
      ]
     },
     "execution_count": 32,
     "metadata": {},
     "output_type": "execute_result"
    }
   ],
   "source": [
    "ll_variance_stops = c.build_stoplist(ll_docs, size=25, basis='variance', inc_values=True, sort_words=False)\n",
    "\n",
    "words, values = zip(*ll_variance_stops)\n",
    "data = {'Word': words, 'Frequency': values}\n",
    "df = pd.DataFrame.from_dict(data)\n",
    "\n",
    "df.style.set_table_styles([\n",
    "    {'selector': '.row_heading, .blank', 'props': [('display', 'none;')]}\n",
    "])"
   ]
  },
  {
   "cell_type": "code",
   "execution_count": 33,
   "metadata": {},
   "outputs": [
    {
     "data": {
      "text/html": [
       "<style  type=\"text/css\" >\n",
       "    #T_4f684c1e_9cb6_11e8_a7a1_9a0014019d40 .row_heading, .blank {\n",
       "          display: none;;\n",
       "    }</style>  \n",
       "<table id=\"T_4f684c1e_9cb6_11e8_a7a1_9a0014019d40\" > \n",
       "<thead>    <tr> \n",
       "        <th class=\"blank level0\" ></th> \n",
       "        <th class=\"col_heading level0 col0\" >Word</th> \n",
       "        <th class=\"col_heading level0 col1\" >Frequency</th> \n",
       "    </tr></thead> \n",
       "<tbody>    <tr> \n",
       "        <th id=\"T_4f684c1e_9cb6_11e8_a7a1_9a0014019d40level0_row0\" class=\"row_heading level0 row0\" >0</th> \n",
       "        <td id=\"T_4f684c1e_9cb6_11e8_a7a1_9a0014019d40row0_col0\" class=\"data row0 col0\" >quod</td> \n",
       "        <td id=\"T_4f684c1e_9cb6_11e8_a7a1_9a0014019d40row0_col1\" class=\"data row0 col1\" >30.3664</td> \n",
       "    </tr>    <tr> \n",
       "        <th id=\"T_4f684c1e_9cb6_11e8_a7a1_9a0014019d40level0_row1\" class=\"row_heading level0 row1\" >1</th> \n",
       "        <td id=\"T_4f684c1e_9cb6_11e8_a7a1_9a0014019d40row1_col0\" class=\"data row1 col0\" >ad</td> \n",
       "        <td id=\"T_4f684c1e_9cb6_11e8_a7a1_9a0014019d40row1_col1\" class=\"data row1 col1\" >34.305</td> \n",
       "    </tr>    <tr> \n",
       "        <th id=\"T_4f684c1e_9cb6_11e8_a7a1_9a0014019d40level0_row2\" class=\"row_heading level0 row2\" >2</th> \n",
       "        <td id=\"T_4f684c1e_9cb6_11e8_a7a1_9a0014019d40row2_col0\" class=\"data row2 col0\" >qui</td> \n",
       "        <td id=\"T_4f684c1e_9cb6_11e8_a7a1_9a0014019d40row2_col1\" class=\"data row2 col1\" >27.5049</td> \n",
       "    </tr>    <tr> \n",
       "        <th id=\"T_4f684c1e_9cb6_11e8_a7a1_9a0014019d40level0_row3\" class=\"row_heading level0 row3\" >3</th> \n",
       "        <td id=\"T_4f684c1e_9cb6_11e8_a7a1_9a0014019d40row3_col0\" class=\"data row3 col0\" >non</td> \n",
       "        <td id=\"T_4f684c1e_9cb6_11e8_a7a1_9a0014019d40row3_col1\" class=\"data row3 col1\" >43.304</td> \n",
       "    </tr>    <tr> \n",
       "        <th id=\"T_4f684c1e_9cb6_11e8_a7a1_9a0014019d40level0_row4\" class=\"row_heading level0 row4\" >4</th> \n",
       "        <td id=\"T_4f684c1e_9cb6_11e8_a7a1_9a0014019d40row4_col0\" class=\"data row4 col0\" >est</td> \n",
       "        <td id=\"T_4f684c1e_9cb6_11e8_a7a1_9a0014019d40row4_col1\" class=\"data row4 col1\" >46.3114</td> \n",
       "    </tr>    <tr> \n",
       "        <th id=\"T_4f684c1e_9cb6_11e8_a7a1_9a0014019d40level0_row5\" class=\"row_heading level0 row5\" >5</th> \n",
       "        <td id=\"T_4f684c1e_9cb6_11e8_a7a1_9a0014019d40row5_col0\" class=\"data row5 col0\" >et</td> \n",
       "        <td id=\"T_4f684c1e_9cb6_11e8_a7a1_9a0014019d40row5_col1\" class=\"data row5 col1\" >93.1383</td> \n",
       "    </tr>    <tr> \n",
       "        <th id=\"T_4f684c1e_9cb6_11e8_a7a1_9a0014019d40level0_row6\" class=\"row_heading level0 row6\" >6</th> \n",
       "        <td id=\"T_4f684c1e_9cb6_11e8_a7a1_9a0014019d40row6_col0\" class=\"data row6 col0\" >cum</td> \n",
       "        <td id=\"T_4f684c1e_9cb6_11e8_a7a1_9a0014019d40row6_col1\" class=\"data row6 col1\" >32.12</td> \n",
       "    </tr>    <tr> \n",
       "        <th id=\"T_4f684c1e_9cb6_11e8_a7a1_9a0014019d40level0_row7\" class=\"row_heading level0 row7\" >7</th> \n",
       "        <td id=\"T_4f684c1e_9cb6_11e8_a7a1_9a0014019d40row7_col0\" class=\"data row7 col0\" >in</td> \n",
       "        <td id=\"T_4f684c1e_9cb6_11e8_a7a1_9a0014019d40row7_col1\" class=\"data row7 col1\" >66.4521</td> \n",
       "    </tr>    <tr> \n",
       "        <th id=\"T_4f684c1e_9cb6_11e8_a7a1_9a0014019d40level0_row8\" class=\"row_heading level0 row8\" >8</th> \n",
       "        <td id=\"T_4f684c1e_9cb6_11e8_a7a1_9a0014019d40row8_col0\" class=\"data row8 col0\" >ut</td> \n",
       "        <td id=\"T_4f684c1e_9cb6_11e8_a7a1_9a0014019d40row8_col1\" class=\"data row8 col1\" >34.365</td> \n",
       "    </tr>    <tr> \n",
       "        <th id=\"T_4f684c1e_9cb6_11e8_a7a1_9a0014019d40level0_row9\" class=\"row_heading level0 row9\" >9</th> \n",
       "        <td id=\"T_4f684c1e_9cb6_11e8_a7a1_9a0014019d40row9_col0\" class=\"data row9 col0\" >sed</td> \n",
       "        <td id=\"T_4f684c1e_9cb6_11e8_a7a1_9a0014019d40row9_col1\" class=\"data row9 col1\" >24.0617</td> \n",
       "    </tr></tbody> \n",
       "</table> "
      ],
      "text/plain": [
       "<pandas.io.formats.style.Styler at 0x17121feb8>"
      ]
     },
     "execution_count": 33,
     "metadata": {},
     "output_type": "execute_result"
    }
   ],
   "source": [
    "ll_entropy_stops = c.build_stoplist(ll_docs, size=25, basis='entropy', inc_values=True, sort_words=False)\n",
    "\n",
    "words, values = zip(*ll_entropy_stops)\n",
    "data = {'Word': words, 'Frequency': values}\n",
    "df = pd.DataFrame.from_dict(data)\n",
    "\n",
    "df.style.set_table_styles([\n",
    "    {'selector': '.row_heading, .blank', 'props': [('display', 'none;')]}\n",
    "])"
   ]
  },
  {
   "cell_type": "code",
   "execution_count": 39,
   "metadata": {},
   "outputs": [
    {
     "name": "stdout",
     "output_type": "stream",
     "text": [
      "['ab', 'ac', 'ad', 'ante', 'atque', 'aut', 'autem', 'cum', 'de', 'dei', 'deus', 'dum', 'ea', 'ego', 'ei', 'eius', 'enim', 'eo', 'erat', 'ergo', 'esse', 'esset', 'est', 'et', 'etiam', 'eum', 'ex', 'fuit', 'haec', 'hic', 'his', 'hoc', 'iam', 'id', 'illa', 'ille', 'in', 'inter', 'ipse', 'ita', 'me', 'mihi', 'modo', 'nam', 'ne', 'nec', 'neque', 'nihil', 'nisi', 'nobis', 'non', 'nos', 'nunc', 'omnes', 'omnia', 'omnibus', 'per', 'post', 'potest', 'pro', 'qua', 'quae', 'quam', 'quem', 'qui', 'quia', 'quibus', 'quid', 'quidem', 'quis', 'quo', 'quod', 'quoque', 'res', 'se', 'secundum', 'sed', 'si', 'sibi', 'sic', 'sicut', 'sine', 'sit', 'sub', 'sunt', 'tamen', 'te', 'tibi', 'tu', 'uel', 'uero', 'ut']\n"
     ]
    }
   ],
   "source": [
    "ll_stops = c.build_stoplist(ll_docs, size=92, basis='zou')\n",
    "print(ll_stops)"
   ]
  },
  {
   "cell_type": "code",
   "execution_count": 40,
   "metadata": {},
   "outputs": [],
   "source": [
    "from cltk.stop.latin import PERSEUS_STOPS"
   ]
  },
  {
   "cell_type": "code",
   "execution_count": 41,
   "metadata": {},
   "outputs": [
    {
     "name": "stdout",
     "output_type": "stream",
     "text": [
      "92\n"
     ]
    }
   ],
   "source": [
    "print(len(PERSEUS_STOPS))"
   ]
  }
 ],
 "metadata": {
  "kernelspec": {
   "display_name": "Python 3",
   "language": "python",
   "name": "python3"
  },
  "language_info": {
   "codemirror_mode": {
    "name": "ipython",
    "version": 3
   },
   "file_extension": ".py",
   "mimetype": "text/x-python",
   "name": "python",
   "nbconvert_exporter": "python",
   "pygments_lexer": "ipython3",
   "version": "3.7.0"
  }
 },
 "nbformat": 4,
 "nbformat_minor": 2
}
